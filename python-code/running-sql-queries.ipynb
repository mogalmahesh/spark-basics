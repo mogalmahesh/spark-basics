{
 "metadata": {
  "language_info": {
   "codemirror_mode": {
    "name": "ipython",
    "version": 3
   },
   "file_extension": ".py",
   "mimetype": "text/x-python",
   "name": "python",
   "nbconvert_exporter": "python",
   "pygments_lexer": "ipython3",
   "version": "3.9.1"
  },
  "orig_nbformat": 2,
  "kernelspec": {
   "name": "python3",
   "display_name": "Python 3.9.1 64-bit",
   "metadata": {
    "interpreter": {
     "hash": "63fd5069d213b44bf678585dea6b12cceca9941eaf7f819626cde1f2670de90d"
    }
   }
  }
 },
 "nbformat": 4,
 "nbformat_minor": 2,
 "cells": [
  {
   "cell_type": "code",
   "execution_count": 1,
   "metadata": {},
   "outputs": [],
   "source": [
    "import findspark\n",
    "findspark.init()"
   ]
  },
  {
   "cell_type": "code",
   "execution_count": 2,
   "metadata": {},
   "outputs": [],
   "source": [
    "import pyspark\n",
    "from pyspark.sql import SparkSession\n",
    "spark = SparkSession.builder.appName(\"Running SQL queries\").getOrCreate()"
   ]
  },
  {
   "cell_type": "code",
   "execution_count": 3,
   "metadata": {},
   "outputs": [
    {
     "output_type": "execute_result",
     "data": {
      "text/plain": [
       "255"
      ]
     },
     "metadata": {},
     "execution_count": 3
    }
   ],
   "source": [
    "df = spark.read\\\n",
    "    .option(\"inferSchema\", \"true\")\\\n",
    "    .option(\"header\",\"true\")\\\n",
    "    .csv(\"D:\\\\code\\\\spark\\\\spark-basics\\\\data\\\\flight-data\\\\csv\\\\2010-summary.csv\")\n",
    "df.count()"
   ]
  },
  {
   "cell_type": "code",
   "execution_count": 4,
   "metadata": {},
   "outputs": [],
   "source": [
    "df.createOrReplaceTempView(\"flights\")"
   ]
  },
  {
   "cell_type": "code",
   "execution_count": 6,
   "metadata": {},
   "outputs": [
    {
     "output_type": "stream",
     "name": "stdout",
     "text": [
      "+--------+\n|count(1)|\n+--------+\n|     255|\n+--------+\n\n"
     ]
    }
   ],
   "source": [
    "spark.sql(\"select count(*) from flights\").show()"
   ]
  },
  {
   "cell_type": "code",
   "execution_count": 7,
   "metadata": {},
   "outputs": [
    {
     "output_type": "stream",
     "name": "stdout",
     "text": [
      "+-----------------+-------------------+-----+\n|DEST_COUNTRY_NAME|ORIGIN_COUNTRY_NAME|count|\n+-----------------+-------------------+-----+\n|    United States|            Romania|    1|\n|    United States|            Ireland|  264|\n|    United States|              India|   69|\n|            Egypt|      United States|   24|\n|Equatorial Guinea|      United States|    1|\n+-----------------+-------------------+-----+\n\n"
     ]
    }
   ],
   "source": [
    "spark.sql(\"select * from flights limit 5\").show()"
   ]
  },
  {
   "cell_type": "code",
   "execution_count": 10,
   "metadata": {},
   "outputs": [
    {
     "output_type": "stream",
     "name": "stdout",
     "text": [
      "+-----------------+-------------------+-----+------------+\n|DEST_COUNTRY_NAME|ORIGIN_COUNTRY_NAME|count|same_country|\n+-----------------+-------------------+-----+------------+\n|    United States|            Romania|    1|       false|\n|    United States|            Ireland|  264|       false|\n|    United States|              India|   69|       false|\n|            Egypt|      United States|   24|       false|\n|Equatorial Guinea|      United States|    1|       false|\n+-----------------+-------------------+-----+------------+\n\n"
     ]
    }
   ],
   "source": [
    "spark.sql(\"\"\"select *, \n",
    "     CASE \n",
    "     WHEN DEST_COUNTRY_NAME = ORIGIN_COUNTRY_NAME THEN true \n",
    "     ELSE false END as same_country  \n",
    "     from flights limit 5\"\"\").show()"
   ]
  },
  {
   "cell_type": "code",
   "execution_count": 15,
   "metadata": {},
   "outputs": [
    {
     "output_type": "stream",
     "name": "stdout",
     "text": [
      "+-----------------+-------------------+------+\n|DEST_COUNTRY_NAME|ORIGIN_COUNTRY_NAME| count|\n+-----------------+-------------------+------+\n|    United States|      United States|348113|\n+-----------------+-------------------+------+\n\n"
     ]
    }
   ],
   "source": [
    "spark.sql(\"\"\"select * from flights \n",
    "where count = (select max(count) from flights)\"\"\").show()"
   ]
  },
  {
   "cell_type": "code",
   "execution_count": 18,
   "metadata": {},
   "outputs": [
    {
     "output_type": "stream",
     "name": "stdout",
     "text": [
      "+--------------------+\n|avg_flights_from_usa|\n+--------------------+\n|  301.10483870967744|\n+--------------------+\n\n"
     ]
    }
   ],
   "source": [
    "spark.sql(\"\"\"select avg(count) as avg_flights_from_usa from flights \n",
    "where DEST_COUNTRY_NAME != 'United States' \n",
    "and ORIGIN_COUNTRY_NAME = 'United States' \"\"\").show()"
   ]
  },
  {
   "cell_type": "code",
   "execution_count": 23,
   "metadata": {},
   "outputs": [],
   "source": [
    "df2 = spark.sql(\"\"\"select *, \n",
    "     CASE \n",
    "     WHEN DEST_COUNTRY_NAME = ORIGIN_COUNTRY_NAME THEN true \n",
    "     ELSE false END as same_country  \n",
    "     from flights\"\"\")"
   ]
  },
  {
   "cell_type": "code",
   "execution_count": 24,
   "metadata": {},
   "outputs": [
    {
     "output_type": "stream",
     "name": "stdout",
     "text": [
      "+-----------------+-------------------+-----+------------+\n|DEST_COUNTRY_NAME|ORIGIN_COUNTRY_NAME|count|same_country|\n+-----------------+-------------------+-----+------------+\n|    United States|            Romania|    1|       false|\n|    United States|            Ireland|  264|       false|\n|    United States|              India|   69|       false|\n+-----------------+-------------------+-----+------------+\nonly showing top 3 rows\n\n"
     ]
    }
   ],
   "source": [
    "df2.show(3)"
   ]
  },
  {
   "cell_type": "code",
   "execution_count": null,
   "metadata": {},
   "outputs": [],
   "source": []
  }
 ]
}