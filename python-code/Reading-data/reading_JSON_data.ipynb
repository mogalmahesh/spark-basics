{
 "metadata": {
  "language_info": {
   "codemirror_mode": {
    "name": "ipython",
    "version": 3
   },
   "file_extension": ".py",
   "mimetype": "text/x-python",
   "name": "python",
   "nbconvert_exporter": "python",
   "pygments_lexer": "ipython3",
   "version": "3.9.1"
  },
  "orig_nbformat": 2,
  "kernelspec": {
   "name": "python3",
   "display_name": "Python 3.9.1 64-bit",
   "metadata": {
    "interpreter": {
     "hash": "63fd5069d213b44bf678585dea6b12cceca9941eaf7f819626cde1f2670de90d"
    }
   }
  }
 },
 "nbformat": 4,
 "nbformat_minor": 2,
 "cells": [
  {
   "cell_type": "code",
   "execution_count": 1,
   "metadata": {},
   "outputs": [],
   "source": [
    "import findspark\n",
    "findspark.init()"
   ]
  },
  {
   "cell_type": "code",
   "execution_count": 2,
   "metadata": {},
   "outputs": [],
   "source": [
    "import pyspark\n",
    "from pyspark.sql import SparkSession\n",
    "spark = SparkSession.builder.appName(\"Reading JSON data\").getOrCreate()"
   ]
  },
  {
   "cell_type": "code",
   "execution_count": 12,
   "metadata": {},
   "outputs": [],
   "source": [
    "df = spark.read.json(\"D:\\\\code\\\\spark\\\\spark-basics\\\\data\\\\flight-data\\\\json\\\\2010-summary.json\")"
   ]
  },
  {
   "cell_type": "code",
   "execution_count": 13,
   "metadata": {},
   "outputs": [
    {
     "output_type": "stream",
     "name": "stdout",
     "text": [
      "root\n |-- DEST_COUNTRY_NAME: string (nullable = true)\n |-- ORIGIN_COUNTRY_NAME: string (nullable = true)\n |-- count: long (nullable = true)\n\n"
     ]
    }
   ],
   "source": [
    "df.printSchema()"
   ]
  },
  {
   "cell_type": "code",
   "execution_count": 15,
   "metadata": {},
   "outputs": [
    {
     "output_type": "stream",
     "name": "stdout",
     "text": [
      "+-----------------+-------------------+-----+\n|DEST_COUNTRY_NAME|ORIGIN_COUNTRY_NAME|count|\n+-----------------+-------------------+-----+\n|    United States|            Romania|    1|\n|    United States|            Ireland|  264|\n+-----------------+-------------------+-----+\nonly showing top 2 rows\n\n"
     ]
    }
   ],
   "source": [
    "df.show(2)"
   ]
  },
  {
   "cell_type": "code",
   "execution_count": 18,
   "metadata": {},
   "outputs": [
    {
     "output_type": "stream",
     "name": "stdout",
     "text": [
      "+-----------------+-------------------+-----+\n|DEST_COUNTRY_NAME|ORIGIN_COUNTRY_NAME|count|\n+-----------------+-------------------+-----+\n|    United States|       Saint Martin|    2|\n|    United States|             Guinea|    2|\n+-----------------+-------------------+-----+\nonly showing top 2 rows\n\n"
     ]
    }
   ],
   "source": [
    "df2 = spark.read\\\n",
    "    .format(\"json\")\\\n",
    "    .load(\"D:\\\\code\\\\spark\\\\spark-basics\\\\data\\\\flight-data\\\\json\\\\2011-summary.json\")\n",
    "df2.show(2)"
   ]
  },
  {
   "cell_type": "code",
   "execution_count": 20,
   "metadata": {},
   "outputs": [
    {
     "output_type": "stream",
     "name": "stdout",
     "text": [
      "+-----------------+-------------------+-----+\n|DEST_COUNTRY_NAME|ORIGIN_COUNTRY_NAME|count|\n+-----------------+-------------------+-----+\n|    United States|            Croatia|    1|\n|    United States|            Ireland|  252|\n+-----------------+-------------------+-----+\nonly showing top 2 rows\n\n"
     ]
    }
   ],
   "source": [
    "df3 = spark.read\\\n",
    "    .format(\"json\")\\\n",
    "    .option(\"inferschema\", \"true\")\\\n",
    "    .option(\"path\", \"D:\\\\code\\\\spark\\\\spark-basics\\\\data\\\\flight-data\\\\json\\\\2012-summary.json\")\\\n",
    "    .load()\n",
    "df3.show(2)"
   ]
  },
  {
   "cell_type": "code",
   "execution_count": 22,
   "metadata": {},
   "outputs": [
    {
     "output_type": "stream",
     "name": "stdout",
     "text": [
      "+-----------------+-------------------+-----+\n|DEST_COUNTRY_NAME|ORIGIN_COUNTRY_NAME|count|\n+-----------------+-------------------+-----+\n|    United States|            Romania|    1|\n|    United States|            Ireland|  264|\n+-----------------+-------------------+-----+\n\n"
     ]
    }
   ],
   "source": [
    "df = spark.read\\\n",
    "    .option(\"multiline\",\"true\")\\\n",
    "    .json(\"D:\\\\code\\\\spark\\\\spark-basics\\\\data\\\\flight-data\\\\json\\\\sample.json\")\n",
    "df.show()"
   ]
  },
  {
   "cell_type": "code",
   "execution_count": 23,
   "metadata": {},
   "outputs": [
    {
     "output_type": "execute_result",
     "data": {
      "text/plain": [
       "1514"
      ]
     },
     "metadata": {},
     "execution_count": 23
    }
   ],
   "source": [
    "df = spark.read\\\n",
    "    .json(\"D:\\\\code\\\\spark\\\\spark-basics\\\\data\\\\flight-data\\\\json\")\n",
    "df.count()"
   ]
  },
  {
   "cell_type": "code",
   "execution_count": 31,
   "metadata": {},
   "outputs": [
    {
     "output_type": "stream",
     "name": "stdout",
     "text": [
      "+-------------------+-----------------+-----+\n|ORIGIN_COUNTRY_NAME|DEST_COUNTRY_NAME|count|\n+-------------------+-----------------+-----+\n|            Romania|    United States|    1|\n|            Ireland|    United States|  264|\n+-------------------+-----------------+-----+\nonly showing top 2 rows\n\n"
     ]
    }
   ],
   "source": [
    "from pyspark.sql.types import StructField, StructType, StringType,LongType\n",
    "custom_schema = StructType([\n",
    "    StructField(\"ORIGIN_COUNTRY_NAME\",StringType(),False),\n",
    "    StructField(\"DEST_COUNTRY_NAME\",StringType(),False),\n",
    "    StructField(\"count\",LongType(),False)\n",
    "])\n",
    "df = spark.read\\\n",
    "    .schema(custom_schema)\\\n",
    "    .json(\"D:\\\\code\\\\spark\\\\spark-basics\\\\data\\\\flight-data\\\\json\\\\2010-summary.json\")\n",
    "df.show(2)"
   ]
  },
  {
   "cell_type": "code",
   "execution_count": 33,
   "metadata": {},
   "outputs": [
    {
     "output_type": "stream",
     "name": "stdout",
     "text": [
      "root\n |-- ORIGIN_COUNTRY_NAME: string (nullable = true)\n |-- DEST_COUNTRY_NAME: string (nullable = true)\n |-- count: long (nullable = true)\n\n"
     ]
    }
   ],
   "source": [
    "df.printSchema()"
   ]
  },
  {
   "cell_type": "code",
   "execution_count": 34,
   "metadata": {},
   "outputs": [
    {
     "output_type": "stream",
     "name": "stdout",
     "text": [
      "+-------------------+-----------------+----+\n|ORIGIN_COUNTRY_NAME|DEST_COUNTRY_NAME|  ct|\n+-------------------+-----------------+----+\n|            Romania|    United States|null|\n|            Ireland|    United States|null|\n+-------------------+-----------------+----+\nonly showing top 2 rows\n\n"
     ]
    }
   ],
   "source": [
    "from pyspark.sql.types import StructField, StructType, StringType,LongType\n",
    "custom_schema = StructType([\n",
    "    StructField(\"ORIGIN_COUNTRY_NAME\",StringType(),False),\n",
    "    StructField(\"DEST_COUNTRY_NAME\",StringType(),False),\n",
    "    StructField(\"ct\",LongType(),False)\n",
    "])\n",
    "df = spark.read\\\n",
    "    .schema(custom_schema)\\\n",
    "    .json(\"D:\\\\code\\\\spark\\\\spark-basics\\\\data\\\\flight-data\\\\json\\\\2010-summary.json\")\n",
    "df.show(2)"
   ]
  },
  {
   "cell_type": "code",
   "execution_count": null,
   "metadata": {},
   "outputs": [],
   "source": []
  }
 ]
}