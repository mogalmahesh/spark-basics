{
 "metadata": {
  "language_info": {
   "codemirror_mode": {
    "name": "ipython",
    "version": 3
   },
   "file_extension": ".py",
   "mimetype": "text/x-python",
   "name": "python",
   "nbconvert_exporter": "python",
   "pygments_lexer": "ipython3",
   "version": "3.9.1"
  },
  "orig_nbformat": 2,
  "kernelspec": {
   "name": "python3",
   "display_name": "Python 3.9.1 64-bit",
   "metadata": {
    "interpreter": {
     "hash": "63fd5069d213b44bf678585dea6b12cceca9941eaf7f819626cde1f2670de90d"
    }
   }
  }
 },
 "nbformat": 4,
 "nbformat_minor": 2,
 "cells": [
  {
   "cell_type": "code",
   "execution_count": 1,
   "metadata": {},
   "outputs": [],
   "source": [
    "import findspark\n",
    "findspark.init()"
   ]
  },
  {
   "cell_type": "code",
   "execution_count": 6,
   "metadata": {},
   "outputs": [],
   "source": [
    "url = \"jdbc:mysql://localhost:3306/employees\"\n",
    "driver = \"com.mysql.jdbc.Driver\"\n",
    "user = \"root\"\n",
    "password = \"1234\""
   ]
  },
  {
   "cell_type": "code",
   "execution_count": 3,
   "metadata": {},
   "outputs": [],
   "source": [
    "import pyspark\n",
    "from pyspark.sql import SparkSession\n",
    "spark = SparkSession.builder.appName(\"SQL Tables\")\\\n",
    "    .config(\"spark.jars\", \"D:\\\\code\\\\spark\\\\spark-basics\\\\python-code\\\\mysql-connector-java.jar\")\\\n",
    "    .getOrCreate()\n",
    "\n",
    "# .config(\"spark.executor.extraClassPath\",\"D:\\\\code\\\\spark\\\\spark-basics\\\\python-code\\\\mysql-connector-java.jar\")\\\n",
    "#     .config(\"spark.driver.extraClassPath\",\"D:\\\\code\\\\spark\\\\spark-basics\\\\python-code\\\\mysql-connector-java.jar\")\\"
   ]
  },
  {
   "cell_type": "code",
   "execution_count": 8,
   "metadata": {},
   "outputs": [],
   "source": [
    "df =  spark.read\\\n",
    "    .format(\"jdbc\")\\\n",
    "    .option(\"driver\", driver)\\\n",
    "    .option(\"url\", url)\\\n",
    "    .option(\"user\", user)\\\n",
    "    .option(\"password\", password)\\\n",
    "    .option(\"dbtable\", \"employees\")\\\n",
    "    .load()"
   ]
  },
  {
   "cell_type": "code",
   "execution_count": 9,
   "metadata": {},
   "outputs": [
    {
     "output_type": "stream",
     "name": "stdout",
     "text": [
      "+------+----------+----------+-----------+------+----------+\n|emp_no|birth_date|first_name|  last_name|gender| hire_date|\n+------+----------+----------+-----------+------+----------+\n| 10001|1953-09-02|    Georgi|    Facello|     M|1986-06-26|\n| 10002|1964-06-02|   Bezalel|     Simmel|     F|1985-11-21|\n| 10003|1959-12-03|     Parto|    Bamford|     M|1986-08-28|\n| 10004|1954-05-01| Chirstian|    Koblick|     M|1986-12-01|\n| 10005|1955-01-21|   Kyoichi|   Maliniak|     M|1989-09-12|\n| 10006|1953-04-20|    Anneke|    Preusig|     F|1989-06-02|\n| 10007|1957-05-23|   Tzvetan|  Zielinski|     F|1989-02-10|\n| 10008|1958-02-19|    Saniya|   Kalloufi|     M|1994-09-15|\n| 10009|1952-04-19|    Sumant|       Peac|     F|1985-02-18|\n| 10010|1963-06-01| Duangkaew|   Piveteau|     F|1989-08-24|\n| 10011|1953-11-07|      Mary|      Sluis|     F|1990-01-22|\n| 10012|1960-10-04|  Patricio|  Bridgland|     M|1992-12-18|\n| 10013|1963-06-07| Eberhardt|     Terkki|     M|1985-10-20|\n| 10014|1956-02-12|     Berni|      Genin|     M|1987-03-11|\n| 10015|1959-08-19|  Guoxiang|  Nooteboom|     M|1987-07-02|\n| 10016|1961-05-02|  Kazuhito|Cappelletti|     M|1995-01-27|\n| 10017|1958-07-06| Cristinel|  Bouloucos|     F|1993-08-03|\n| 10018|1954-06-19|  Kazuhide|       Peha|     F|1987-04-03|\n| 10019|1953-01-23|   Lillian|    Haddadi|     M|1999-04-30|\n| 10020|1952-12-24|    Mayuko|    Warwick|     M|1991-01-26|\n+------+----------+----------+-----------+------+----------+\nonly showing top 20 rows\n\n"
     ]
    }
   ],
   "source": [
    "df.show()"
   ]
  },
  {
   "cell_type": "code",
   "execution_count": 10,
   "metadata": {},
   "outputs": [
    {
     "output_type": "execute_result",
     "data": {
      "text/plain": [
       "300024"
      ]
     },
     "metadata": {},
     "execution_count": 10
    }
   ],
   "source": [
    "df.count()"
   ]
  },
  {
   "cell_type": "code",
   "execution_count": 12,
   "metadata": {},
   "outputs": [
    {
     "output_type": "stream",
     "name": "stdout",
     "text": [
      "+------+----------+----------+---------+------+----------+\n|emp_no|birth_date|first_name|last_name|gender| hire_date|\n+------+----------+----------+---------+------+----------+\n| 10002|1964-06-02|   Bezalel|   Simmel|     F|1985-11-21|\n| 10006|1953-04-20|    Anneke|  Preusig|     F|1989-06-02|\n| 10007|1957-05-23|   Tzvetan|Zielinski|     F|1989-02-10|\n| 10009|1952-04-19|    Sumant|     Peac|     F|1985-02-18|\n| 10010|1963-06-01| Duangkaew| Piveteau|     F|1989-08-24|\n+------+----------+----------+---------+------+----------+\nonly showing top 5 rows\n\n"
     ]
    }
   ],
   "source": [
    "query=\"(select * from employees where gender = 'F') as emp\"\n",
    "df =  spark.read\\\n",
    "    .format(\"jdbc\")\\\n",
    "    .option(\"driver\", driver)\\\n",
    "    .option(\"url\", url)\\\n",
    "    .option(\"user\", user)\\\n",
    "    .option(\"password\", password)\\\n",
    "    .option(\"dbtable\", query)\\\n",
    "    .load()\n",
    "df.show(5)"
   ]
  },
  {
   "cell_type": "code",
   "execution_count": 16,
   "metadata": {},
   "outputs": [],
   "source": [
    "df =  spark.read\\\n",
    "    .format(\"jdbc\")\\\n",
    "    .option(\"driver\", driver)\\\n",
    "    .option(\"url\", url)\\\n",
    "    .option(\"user\", user)\\\n",
    "    .option(\"password\", password)\\\n",
    "    .option(\"dbtable\", \"employees\")\\\n",
    "    .option(\"numPartitions\", 10)\\\n",
    "    .load()"
   ]
  },
  {
   "cell_type": "code",
   "execution_count": 18,
   "metadata": {},
   "outputs": [
    {
     "output_type": "execute_result",
     "data": {
      "text/plain": [
       "1"
      ]
     },
     "metadata": {},
     "execution_count": 18
    }
   ],
   "source": [
    "df.rdd.getNumPartitions()"
   ]
  },
  {
   "cell_type": "code",
   "execution_count": null,
   "metadata": {},
   "outputs": [],
   "source": []
  }
 ]
}