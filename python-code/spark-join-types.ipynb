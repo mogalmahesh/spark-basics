{
 "metadata": {
  "language_info": {
   "codemirror_mode": {
    "name": "ipython",
    "version": 3
   },
   "file_extension": ".py",
   "mimetype": "text/x-python",
   "name": "python",
   "nbconvert_exporter": "python",
   "pygments_lexer": "ipython3",
   "version": "3.9.1"
  },
  "orig_nbformat": 2,
  "kernelspec": {
   "name": "python3",
   "display_name": "Python 3.9.1 64-bit",
   "metadata": {
    "interpreter": {
     "hash": "63fd5069d213b44bf678585dea6b12cceca9941eaf7f819626cde1f2670de90d"
    }
   }
  }
 },
 "nbformat": 4,
 "nbformat_minor": 2,
 "cells": [
  {
   "cell_type": "code",
   "execution_count": 1,
   "metadata": {},
   "outputs": [],
   "source": [
    "import findspark\n",
    "findspark.init()"
   ]
  },
  {
   "cell_type": "code",
   "execution_count": 2,
   "metadata": {},
   "outputs": [],
   "source": [
    "import pyspark\n",
    "from pyspark.sql import SparkSession\n",
    "spark = SparkSession.builder.appName(\"Join Types\").getOrCreate()"
   ]
  },
  {
   "cell_type": "code",
   "execution_count": 3,
   "metadata": {},
   "outputs": [],
   "source": [
    "emp = spark.createDataFrame([\n",
    "    (0,\"John C\", \"2000-01-01\", \"D101\"),\n",
    "    (1,\"Tom D\", \"2002-02-01\", \"D102\"),\n",
    "    (2,\"Max\", \"2003-04-01\", \"D104\"),\n",
    "    (3,\"Peter J\", \"2005-06-01\", \"D104\"),\n",
    "    (4,\"Mark P\", \"2007-01-01\", \"D1022\")\n",
    "]).toDF(\"id\",\"name\",\"joining_date\",\"dept_id\")"
   ]
  },
  {
   "cell_type": "code",
   "execution_count": 4,
   "metadata": {},
   "outputs": [],
   "source": [
    "dept = spark.createDataFrame([\n",
    "    (\"D101\", \"Support\"),\n",
    "    (\"D102\", \"HR\"),\n",
    "    (\"D103\", \"Marketing\"),\n",
    "    (\"D104\", \"Sells\")\n",
    "]).toDF(\"id\", \"dept_name\")"
   ]
  },
  {
   "cell_type": "code",
   "execution_count": 5,
   "metadata": {},
   "outputs": [
    {
     "output_type": "stream",
     "name": "stdout",
     "text": [
      "+---+-------+------------+-------+\n| id|   name|joining_date|dept_id|\n+---+-------+------------+-------+\n|  0| John C|  2000-01-01|   D101|\n|  1|  Tom D|  2002-02-01|   D102|\n|  2|    Max|  2003-04-01|   D104|\n|  3|Peter J|  2005-06-01|   D104|\n|  4| Mark P|  2007-01-01|  D1022|\n+---+-------+------------+-------+\n\n"
     ]
    }
   ],
   "source": [
    "emp.show()"
   ]
  },
  {
   "cell_type": "code",
   "execution_count": 6,
   "metadata": {},
   "outputs": [
    {
     "output_type": "stream",
     "name": "stdout",
     "text": [
      "+----+---------+\n|  id|dept_name|\n+----+---------+\n|D101|  Support|\n|D102|       HR|\n|D103|Marketing|\n|D104|    Sells|\n+----+---------+\n\n"
     ]
    }
   ],
   "source": [
    "dept.show()"
   ]
  },
  {
   "cell_type": "code",
   "execution_count": 7,
   "metadata": {},
   "outputs": [
    {
     "output_type": "stream",
     "name": "stdout",
     "text": [
      "+---+-------+------------+-------+----+---------+\n| id|   name|joining_date|dept_id|  id|dept_name|\n+---+-------+------------+-------+----+---------+\n|  2|    Max|  2003-04-01|   D104|D104|    Sells|\n|  3|Peter J|  2005-06-01|   D104|D104|    Sells|\n|  0| John C|  2000-01-01|   D101|D101|  Support|\n|  1|  Tom D|  2002-02-01|   D102|D102|       HR|\n+---+-------+------------+-------+----+---------+\n\n"
     ]
    }
   ],
   "source": [
    "emp.join(dept, emp[\"dept_id\"] == dept[\"id\"], \"inner\").show()"
   ]
  },
  {
   "cell_type": "code",
   "execution_count": 8,
   "metadata": {},
   "outputs": [
    {
     "output_type": "stream",
     "name": "stdout",
     "text": [
      "+---+-------+------------+-------+----+---------+\n| id|   name|joining_date|dept_id|  id|dept_name|\n+---+-------+------------+-------+----+---------+\n|  2|    Max|  2003-04-01|   D104|D104|    Sells|\n|  3|Peter J|  2005-06-01|   D104|D104|    Sells|\n|  0| John C|  2000-01-01|   D101|D101|  Support|\n|  1|  Tom D|  2002-02-01|   D102|D102|       HR|\n+---+-------+------------+-------+----+---------+\n\n"
     ]
    }
   ],
   "source": [
    "joinType = \"inner\"\n",
    "joinCondition = emp[\"dept_id\"] == dept[\"id\"]\n",
    "emp.join(dept, joinCondition, joinType).show()"
   ]
  },
  {
   "cell_type": "code",
   "execution_count": 9,
   "metadata": {},
   "outputs": [
    {
     "output_type": "stream",
     "name": "stdout",
     "text": [
      "+---+-------+------------+-------+----+---------+\n| id|   name|joining_date|dept_id|  id|dept_name|\n+---+-------+------------+-------+----+---------+\n|  2|    Max|  2003-04-01|   D104|D104|    Sells|\n|  3|Peter J|  2005-06-01|   D104|D104|    Sells|\n|  0| John C|  2000-01-01|   D101|D101|  Support|\n|  1|  Tom D|  2002-02-01|   D102|D102|       HR|\n+---+-------+------------+-------+----+---------+\n\n"
     ]
    }
   ],
   "source": [
    "emp.join(dept, joinCondition).show()"
   ]
  },
  {
   "cell_type": "code",
   "execution_count": 10,
   "metadata": {},
   "outputs": [
    {
     "output_type": "stream",
     "name": "stdout",
     "text": [
      "+----+-------+------------+-------+----+---------+\n|  id|   name|joining_date|dept_id|  id|dept_name|\n+----+-------+------------+-------+----+---------+\n|   2|    Max|  2003-04-01|   D104|D104|    Sells|\n|   3|Peter J|  2005-06-01|   D104|D104|    Sells|\n|   4| Mark P|  2007-01-01|  D1022|null|     null|\n|null|   null|        null|   null|D103|Marketing|\n|   0| John C|  2000-01-01|   D101|D101|  Support|\n|   1|  Tom D|  2002-02-01|   D102|D102|       HR|\n+----+-------+------------+-------+----+---------+\n\n"
     ]
    }
   ],
   "source": [
    "joinType = \"outer\"\n",
    "joinCondition = emp[\"dept_id\"] == dept[\"id\"]\n",
    "emp.join(dept, joinCondition, joinType).show()"
   ]
  },
  {
   "cell_type": "code",
   "execution_count": 11,
   "metadata": {},
   "outputs": [
    {
     "output_type": "stream",
     "name": "stdout",
     "text": [
      "+---+-------+------------+-------+----+---------+\n| id|   name|joining_date|dept_id|  id|dept_name|\n+---+-------+------------+-------+----+---------+\n|  2|    Max|  2003-04-01|   D104|D104|    Sells|\n|  3|Peter J|  2005-06-01|   D104|D104|    Sells|\n|  4| Mark P|  2007-01-01|  D1022|null|     null|\n|  0| John C|  2000-01-01|   D101|D101|  Support|\n|  1|  Tom D|  2002-02-01|   D102|D102|       HR|\n+---+-------+------------+-------+----+---------+\n\n"
     ]
    }
   ],
   "source": [
    "joinType = \"left_outer\"\n",
    "joinCondition = emp[\"dept_id\"] == dept[\"id\"]\n",
    "emp.join(dept, joinCondition, joinType).show()"
   ]
  },
  {
   "cell_type": "code",
   "execution_count": 12,
   "metadata": {},
   "outputs": [
    {
     "output_type": "stream",
     "name": "stdout",
     "text": [
      "+----+-------+------------+-------+----+---------+\n|  id|   name|joining_date|dept_id|  id|dept_name|\n+----+-------+------------+-------+----+---------+\n|   2|    Max|  2003-04-01|   D104|D104|    Sells|\n|   3|Peter J|  2005-06-01|   D104|D104|    Sells|\n|null|   null|        null|   null|D103|Marketing|\n|   0| John C|  2000-01-01|   D101|D101|  Support|\n|   1|  Tom D|  2002-02-01|   D102|D102|       HR|\n+----+-------+------------+-------+----+---------+\n\n"
     ]
    }
   ],
   "source": [
    "joinType = \"right_outer\"\n",
    "joinCondition = emp[\"dept_id\"] == dept[\"id\"]\n",
    "emp.join(dept, joinCondition, joinType).show()"
   ]
  },
  {
   "cell_type": "code",
   "execution_count": 13,
   "metadata": {},
   "outputs": [
    {
     "output_type": "stream",
     "name": "stdout",
     "text": [
      "+---+-------+------------+-------+\n| id|   name|joining_date|dept_id|\n+---+-------+------------+-------+\n|  2|    Max|  2003-04-01|   D104|\n|  3|Peter J|  2005-06-01|   D104|\n|  0| John C|  2000-01-01|   D101|\n|  1|  Tom D|  2002-02-01|   D102|\n+---+-------+------------+-------+\n\n"
     ]
    }
   ],
   "source": [
    "joinType = \"left_semi\"\n",
    "joinCondition = emp[\"dept_id\"] == dept[\"id\"]\n",
    "emp.join(dept, joinCondition, joinType).show()"
   ]
  },
  {
   "cell_type": "code",
   "execution_count": 14,
   "metadata": {},
   "outputs": [
    {
     "output_type": "stream",
     "name": "stdout",
     "text": [
      "+---+------+------------+-------+\n| id|  name|joining_date|dept_id|\n+---+------+------------+-------+\n|  4|Mark P|  2007-01-01|  D1022|\n+---+------+------------+-------+\n\n"
     ]
    }
   ],
   "source": [
    "joinType = \"left_anti\"\n",
    "joinCondition = emp[\"dept_id\"] == dept[\"id\"]\n",
    "emp.join(dept, joinCondition, joinType).show()"
   ]
  },
  {
   "cell_type": "code",
   "execution_count": 22,
   "metadata": {},
   "outputs": [
    {
     "output_type": "stream",
     "name": "stdout",
     "text": [
      "+---+----+------------+-------+---------+\n| id|name|joining_date|dept_id|dept_name|\n+---+----+------------+-------+---------+\n+---+----+------------+-------+---------+\n\n"
     ]
    }
   ],
   "source": [
    "emp.createOrReplaceTempView(\"emp\")\n",
    "dept.createOrReplaceTempView(\"dept\")\n",
    "spark.sql(\"select * from emp NATURAL JOIN dept\").show()"
   ]
  },
  {
   "cell_type": "code",
   "execution_count": 23,
   "metadata": {},
   "outputs": [
    {
     "output_type": "stream",
     "name": "stdout",
     "text": [
      "+---+-------+------------+-------+----+---------+\n| id|   name|joining_date|dept_id|  id|dept_name|\n+---+-------+------------+-------+----+---------+\n|  0| John C|  2000-01-01|   D101|D101|  Support|\n|  0| John C|  2000-01-01|   D101|D102|       HR|\n|  0| John C|  2000-01-01|   D101|D103|Marketing|\n|  0| John C|  2000-01-01|   D101|D104|    Sells|\n|  1|  Tom D|  2002-02-01|   D102|D101|  Support|\n|  1|  Tom D|  2002-02-01|   D102|D102|       HR|\n|  1|  Tom D|  2002-02-01|   D102|D103|Marketing|\n|  1|  Tom D|  2002-02-01|   D102|D104|    Sells|\n|  2|    Max|  2003-04-01|   D104|D101|  Support|\n|  2|    Max|  2003-04-01|   D104|D102|       HR|\n|  2|    Max|  2003-04-01|   D104|D103|Marketing|\n|  2|    Max|  2003-04-01|   D104|D104|    Sells|\n|  3|Peter J|  2005-06-01|   D104|D101|  Support|\n|  3|Peter J|  2005-06-01|   D104|D102|       HR|\n|  3|Peter J|  2005-06-01|   D104|D103|Marketing|\n|  3|Peter J|  2005-06-01|   D104|D104|    Sells|\n|  4| Mark P|  2007-01-01|  D1022|D101|  Support|\n|  4| Mark P|  2007-01-01|  D1022|D102|       HR|\n|  4| Mark P|  2007-01-01|  D1022|D103|Marketing|\n|  4| Mark P|  2007-01-01|  D1022|D104|    Sells|\n+---+-------+------------+-------+----+---------+\n\n"
     ]
    }
   ],
   "source": [
    "spark.sql(\"select * from emp CROSS JOIN dept\").show()"
   ]
  },
  {
   "cell_type": "code",
   "execution_count": null,
   "metadata": {},
   "outputs": [],
   "source": []
  }
 ]
}